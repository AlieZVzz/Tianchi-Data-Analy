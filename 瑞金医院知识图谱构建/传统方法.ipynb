{
 "cells": [
  {
   "cell_type": "code",
   "execution_count": 1,
   "metadata": {
    "collapsed": true
   },
   "outputs": [],
   "source": [
    "import numpy as np\n",
    "from sklearn.model_selection import ShuffleSplit\n",
    "from gensim.models import Word2Vec\n",
    "from data_utils import *"
   ]
  },
  {
   "cell_type": "code",
   "execution_count": 2,
   "outputs": [],
   "source": [
    "data_dir = './data/train'\n",
    "ent2idx = dict(zip(ENTITIES, range(1, len(ENTITIES) + 1)))\n",
    "idx2ent = dict([(v, k) for k, v in ent2idx.items()])"
   ],
   "metadata": {
    "collapsed": false,
    "pycharm": {
     "name": "#%%\n"
    }
   }
  },
  {
   "cell_type": "code",
   "execution_count": 3,
   "outputs": [],
   "source": [
    "docs = Documents(data_dir=data_dir)\n",
    "rs = ShuffleSplit(n_splits=1, test_size=20, random_state=2011)\n",
    "train_doc_ids, test_doc_ids = next(rs.split(docs))\n",
    "train_docs, test_docs = docs[train_doc_ids], docs[test_doc_ids]"
   ],
   "metadata": {
    "collapsed": false,
    "pycharm": {
     "name": "#%%\n"
    }
   }
  },
  {
   "cell_type": "code",
   "execution_count": 4,
   "outputs": [],
   "source": [
    "#Model parameters value\n",
    "num_cates = max(ent2idx.values())+1\n",
    "sent_len = 64\n",
    "vocab_size = 3000\n",
    "emb_size = 100\n",
    "sent_pad = 10\n",
    "sent_extrator = SentenceExtractor(window_size=sent_len, pad_size=sent_pad)\n",
    "train_sents = sent_extrator(train_docs)\n",
    "test_sents = sent_extrator(test_docs)\n",
    "train_data = Dataset(train_sents, cate2idx=ent2idx)\n",
    "train_data.build_vocab_dict(vocab_size=vocab_size)\n",
    "\n",
    "test_data = Dataset(test_sents, cate2idx=ent2idx, word2idx=train_data.word2idx)\n",
    "vocab_size = len(train_data.word2idx)"
   ],
   "metadata": {
    "collapsed": false,
    "pycharm": {
     "name": "#%%\n"
    }
   }
  },
  {
   "cell_type": "code",
   "execution_count": 5,
   "outputs": [],
   "source": [
    "# Construct word embed model\n",
    "w2v_train_sents = []\n",
    "for doc in docs:\n",
    "    w2v_train_sents.append(list(doc.text))\n",
    "w2v_model = Word2Vec(w2v_train_sents, vector_size=emb_size)\n",
    "\n",
    "w2v_embeddings = np.zeros((vocab_size, emb_size))\n",
    "for char, char_idx in train_data.word2idx.items():\n",
    "    if char in w2v_model.wv:\n",
    "        w2v_embeddings[char_idx] = w2v_model.wv[char]"
   ],
   "metadata": {
    "collapsed": false,
    "pycharm": {
     "name": "#%%\n"
    }
   }
  },
  {
   "cell_type": "code",
   "execution_count": 5,
   "outputs": [],
   "source": [
    "\n"
   ],
   "metadata": {
    "collapsed": false,
    "pycharm": {
     "name": "#%%\n"
    }
   }
  }
 ],
 "metadata": {
  "kernelspec": {
   "name": "conda-env-torch-py",
   "language": "python",
   "display_name": "Python [conda env:torch] *"
  },
  "language_info": {
   "codemirror_mode": {
    "name": "ipython",
    "version": 2
   },
   "file_extension": ".py",
   "mimetype": "text/x-python",
   "name": "python",
   "nbconvert_exporter": "python",
   "pygments_lexer": "ipython2",
   "version": "2.7.6"
  }
 },
 "nbformat": 4,
 "nbformat_minor": 0
}