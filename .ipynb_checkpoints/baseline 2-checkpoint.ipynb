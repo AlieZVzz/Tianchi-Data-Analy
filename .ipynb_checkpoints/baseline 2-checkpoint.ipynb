{
 "cells": [
  {
   "cell_type": "code",
   "execution_count": 1,
   "metadata": {},
   "outputs": [],
   "source": [
    "import pandas as pd\n",
    "import json\n",
    "from bs4 import BeautifulSoup\n",
    "import re\n",
    "import seaborn as sns\n",
    "import matplotlib.pyplot as plt"
   ]
  },
  {
   "cell_type": "code",
   "execution_count": 2,
   "metadata": {},
   "outputs": [],
   "source": [
    "data=[]\n",
    "with open('arxiv-metadata-oai-2019.json','r') as f:\n",
    "    for idx,line in enumerate(f):\n",
    "        d=json.loads(line)\n",
    "        d={'authors':d['authors'],'categories':d['categories'],'authors_parsed':d['authors_parsed']}\n",
    "        data.append(d)\n",
    "data=pd.DataFrame(data)"
   ]
  },
  {
   "cell_type": "code",
   "execution_count": 3,
   "metadata": {},
   "outputs": [
    {
     "data": {
      "text/html": [
       "<div>\n",
       "<style scoped>\n",
       "    .dataframe tbody tr th:only-of-type {\n",
       "        vertical-align: middle;\n",
       "    }\n",
       "\n",
       "    .dataframe tbody tr th {\n",
       "        vertical-align: top;\n",
       "    }\n",
       "\n",
       "    .dataframe thead th {\n",
       "        text-align: right;\n",
       "    }\n",
       "</style>\n",
       "<table border=\"1\" class=\"dataframe\">\n",
       "  <thead>\n",
       "    <tr style=\"text-align: right;\">\n",
       "      <th></th>\n",
       "      <th>authors</th>\n",
       "      <th>categories</th>\n",
       "      <th>authors_parsed</th>\n",
       "    </tr>\n",
       "  </thead>\n",
       "  <tbody>\n",
       "    <tr>\n",
       "      <th>0</th>\n",
       "      <td>Sung-Chul Yoon, Philipp Podsiadlowski and Step...</td>\n",
       "      <td>astro-ph</td>\n",
       "      <td>[[Yoon, Sung-Chul, ], [Podsiadlowski, Philipp,...</td>\n",
       "    </tr>\n",
       "    <tr>\n",
       "      <th>1</th>\n",
       "      <td>B. Dugmore and PP. Ntumba</td>\n",
       "      <td>math.AT</td>\n",
       "      <td>[[Dugmore, B., ], [Ntumba, PP., ]]</td>\n",
       "    </tr>\n",
       "    <tr>\n",
       "      <th>2</th>\n",
       "      <td>T.V. Zaqarashvili and K Murawski</td>\n",
       "      <td>astro-ph</td>\n",
       "      <td>[[Zaqarashvili, T. V., ], [Murawski, K, ]]</td>\n",
       "    </tr>\n",
       "    <tr>\n",
       "      <th>3</th>\n",
       "      <td>Sezgin Aygun, Ismail Tarhan, Husnu Baysal</td>\n",
       "      <td>gr-qc</td>\n",
       "      <td>[[Aygun, Sezgin, ], [Tarhan, Ismail, ], [Baysa...</td>\n",
       "    </tr>\n",
       "    <tr>\n",
       "      <th>4</th>\n",
       "      <td>Antonio Pipino (1,3), Thomas H. Puzia (2,4), a...</td>\n",
       "      <td>astro-ph</td>\n",
       "      <td>[[Pipino, Antonio, ], [Puzia, Thomas H., ], [M...</td>\n",
       "    </tr>\n",
       "  </tbody>\n",
       "</table>\n",
       "</div>"
      ],
      "text/plain": [
       "                                             authors categories  \\\n",
       "0  Sung-Chul Yoon, Philipp Podsiadlowski and Step...   astro-ph   \n",
       "1                          B. Dugmore and PP. Ntumba    math.AT   \n",
       "2                   T.V. Zaqarashvili and K Murawski   astro-ph   \n",
       "3          Sezgin Aygun, Ismail Tarhan, Husnu Baysal      gr-qc   \n",
       "4  Antonio Pipino (1,3), Thomas H. Puzia (2,4), a...   astro-ph   \n",
       "\n",
       "                                      authors_parsed  \n",
       "0  [[Yoon, Sung-Chul, ], [Podsiadlowski, Philipp,...  \n",
       "1                 [[Dugmore, B., ], [Ntumba, PP., ]]  \n",
       "2         [[Zaqarashvili, T. V., ], [Murawski, K, ]]  \n",
       "3  [[Aygun, Sezgin, ], [Tarhan, Ismail, ], [Baysa...  \n",
       "4  [[Pipino, Antonio, ], [Puzia, Thomas H., ], [M...  "
      ]
     },
     "execution_count": 3,
     "metadata": {},
     "output_type": "execute_result"
    }
   ],
   "source": [
    "data.head()"
   ]
  },
  {
   "cell_type": "code",
   "execution_count": 4,
   "metadata": {},
   "outputs": [],
   "source": [
    "data2=data[data['categories'].apply(lambda x:'cs.CV' in x)]\n",
    "all_authors=sum(data2['authors_parsed'],[])"
   ]
  },
  {
   "cell_type": "code",
   "execution_count": 6,
   "metadata": {},
   "outputs": [],
   "source": [
    "authors_names=[''.join(x) for x in all_authors]\n",
    "authors_names=pd.DataFrame(authors_names)"
   ]
  },
  {
   "cell_type": "code",
   "execution_count": 10,
   "metadata": {},
   "outputs": [
    {
     "data": {
      "text/plain": [
       "Text(0.5, 0, 'Count')"
      ]
     },
     "execution_count": 10,
     "metadata": {},
     "output_type": "execute_result"
    },
    {
     "data": {
      "image/png": "[encoded data removed]",
      "text/plain": [
       "<Figure size 720x432 with 1 Axes>"
      ]
     },
     "metadata": {
      "needs_background": "light"
     },
     "output_type": "display_data"
    }
   ],
   "source": [
    "plt.figure(figsize=(10,6))\n",
    "authors_names[0].value_counts().head(10).plot(kind='barh')\n",
    "\n",
    "names=authors_names[0].value_counts().index.values[:10]\n",
    "plt.yticks(range(0,len(names)),names)\n",
    "plt.ylabel('Author')\n",
    "plt.xlabel('Count')"
   ]
  },
  {
   "cell_type": "code",
   "execution_count": null,
   "metadata": {},
   "outputs": [],
   "source": []
  }
 ],
 "metadata": {
  "interpreter": {
   "hash": "07efdcd4b820c98a756949507a4d29d7862823915ec7477944641bea022f4f62"
  },
  "kernelspec": {
   "display_name": "Python 3",
   "language": "python",
   "name": "python3"
  },
  "language_info": {
   "codemirror_mode": {
    "name": "ipython",
    "version": 3
   },
   "file_extension": ".py",
   "mimetype": "text/x-python",
   "name": "python",
   "nbconvert_exporter": "python",
   "pygments_lexer": "ipython3",
   "version": "3.8.5"
  }
 },
 "nbformat": 4,
 "nbformat_minor": 2
}
